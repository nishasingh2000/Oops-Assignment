{
 "cells": [
  {
   "cell_type": "markdown",
   "id": "29cb82c4",
   "metadata": {},
   "source": [
    "                                                OOPS Assignment "
   ]
  },
  {
   "cell_type": "markdown",
   "id": "5d84b861",
   "metadata": {},
   "source": [
    "1. What is Object-Oriented Programming (OOP)\n",
    "\n",
    "Object-Oriented Programming (OOP) is a way of writing code that organizes everything into objects, like real-world things. \n",
    "\n",
    "Key Idea:\n",
    "\n",
    "Think of a class as a blueprint (like a car design), and an object as a specific car built from that blueprint.\n",
    "Benefits of OOP:\n",
    "\n",
    "Modularity: Code is organized into logical, reusable pieces.\n",
    "\n",
    "Reusability: Classes can be reused across projects.\n",
    "\n",
    "Maintainability: Easier to update and debug.\n",
    "\n",
    "Scalability: Suitable for large, complex applications."
   ]
  },
  {
   "cell_type": "markdown",
   "id": "33436190",
   "metadata": {},
   "source": [
    "2. What is a class in OOP? \n",
    "\n",
    "A class in Object-Oriented Programming (OOP) is like a blueprint for creating objects. \n",
    "\n",
    "Definition:\n",
    "\n",
    "A class defines the attributes (data) and methods (functions) that its objects will have. Think of a class like a cookie cutter, and the objects are the cookies made from it.\n",
    "\n",
    "Structure of a Class in Python: "
   ]
  },
  {
   "cell_type": "code",
   "execution_count": null,
   "id": "e80405e9",
   "metadata": {},
   "outputs": [],
   "source": [
    "class ClassName:\n",
    "    def __init__(self, attribute1, attribute2):\n",
    "        self.attribute1 = attribute1\n",
    "        self.attribute2 = attribute2\n",
    "\n",
    "    def method1(self):\n",
    "        pass"
   ]
  },
  {
   "cell_type": "code",
   "execution_count": 4,
   "id": "b553d35f",
   "metadata": {},
   "outputs": [],
   "source": [
    "#Example \n",
    "\n",
    "class Student:\n",
    "    def __init__(self, name, age, grade):\n",
    "        self.name= name\n",
    "        self.age= age\n",
    "        self.grade=grade \n",
    "\n",
    "    def display_info(self):\n",
    "        print(self.name, self.age,self.grade)\n"
   ]
  },
  {
   "cell_type": "code",
   "execution_count": null,
   "id": "305b5f75",
   "metadata": {},
   "outputs": [
    {
     "name": "stdout",
     "output_type": "stream",
     "text": [
      "Nisha 25 SC\n"
     ]
    }
   ],
   "source": [
    "agent1 = Student(\"Nisha\", 25, \"SC\") \n",
    "agent1.display_info()  \n"
   ]
  },
  {
   "cell_type": "markdown",
   "id": "a8200370",
   "metadata": {},
   "source": [
    "Here:\n",
    "\n",
    "Student is the class.\n",
    "\n",
    "name and age, Grade are attributes.\n",
    "\n",
    "display_info() is a method. \n",
    "\n",
    "\n",
    "Key Points:\n",
    "\n",
    "A class does not hold actual data; it's just a design.\n",
    "\n",
    "You need to create an object (instance) of the class to use it."
   ]
  },
  {
   "cell_type": "markdown",
   "id": "d26594ef",
   "metadata": {},
   "source": [
    "3. What is an object in OOP \n",
    "\n",
    "An object in Object-Oriented Programming (OOP) is a specific instance of a class. If a class is the blueprint, then an object is the final product created using that blueprint. \n",
    "\n",
    "Analogy:\n",
    "\n",
    "Class: Blueprint of a car.\n",
    "\n",
    "Object: A specific car built using the blueprint (e.g., red Toyota Corolla with AC)."
   ]
  },
  {
   "cell_type": "code",
   "execution_count": 9,
   "id": "fa91cb3c",
   "metadata": {},
   "outputs": [
    {
     "name": "stdout",
     "output_type": "stream",
     "text": [
      "name: Nisha,Roll No: 24\n",
      "name: Shweta,Roll No: 25\n"
     ]
    }
   ],
   "source": [
    "class Student:\n",
    "    def __init__(self,name,roll_no):\n",
    "        self.name = name\n",
    "        self.roll_no = roll_no\n",
    "    def student_info(self):\n",
    "        print(f\"name: {self.name},Roll No: {self.roll_no}\")\n",
    "\n",
    "# Creating objects\n",
    "s1 = Student(\"Nisha\",  24)\n",
    "s2 = Student(\"Shweta\",  25)\n",
    "\n",
    "# Using object methods\n",
    "s1.student_info()  \n",
    "s2.student_info()  \n"
   ]
  },
  {
   "cell_type": "markdown",
   "id": "ab36ad9c",
   "metadata": {},
   "source": [
    "Here:\n",
    "\n",
    "s1 and s2 are objects of the Student class.\n",
    "\n",
    "Each object stores its own values for name and roll_no. \n",
    "\n",
    "\n",
    "Key Features of an Object:\n",
    "\n",
    "Stores data (attributes).\n",
    "\n",
    "Can perform actions (methods).\n",
    "\n",
    "Can be created multiple times from the same class."
   ]
  },
  {
   "cell_type": "markdown",
   "id": "99eec6f6",
   "metadata": {},
   "source": [
    "4. What is the difference between abstraction and encapsulation \n",
    "\n",
    "Abstraction and encapsulation are both fundamental concepts in Object-Oriented Programming (OOP), but they serve different purposes. \n",
    "\n",
    "Abstraction :- \n",
    "\n",
    "Abstraction is about hiding unnecessary details and showing only the essential features of an object. It's like using a smartphone:\n",
    "\n",
    "You dial a number and talk, but you don’t see the complex internal circuits making it work.\n",
    "\n",
    "In coding, abstraction simplifies usage by exposing only relevant methods.\n",
    "\n",
    "\n",
    "Encapsulation :- \n",
    "\n",
    "Encapsulation is about restricting access to certain details and ensuring that data is controlled within an object. Think of it as a private safe:\n",
    "\n",
    "You can store valuables inside, but only someone with the key can open it.\n",
    "\n",
    "In coding, it protects data by making certain variables private or controlled."
   ]
  },
  {
   "cell_type": "code",
   "execution_count": 10,
   "id": "9ccdf032",
   "metadata": {},
   "outputs": [],
   "source": [
    "from abc import ABC,abstractmethod\n",
    "\n",
    "class Animal(ABC):\n",
    "    @abstractmethod\n",
    "    def make_soundnoise(self):\n",
    "        pass\n",
    "class dog(Animal):\n",
    "    def make_soundnoise(self):\n",
    "        print(\"bark\")\n"
   ]
  },
  {
   "cell_type": "code",
   "execution_count": 11,
   "id": "c5577298",
   "metadata": {},
   "outputs": [
    {
     "name": "stdout",
     "output_type": "stream",
     "text": [
      "bark\n"
     ]
    }
   ],
   "source": [
    "d = dog()\n",
    "d.make_soundnoise()"
   ]
  },
  {
   "cell_type": "code",
   "execution_count": 12,
   "id": "afd96a99",
   "metadata": {},
   "outputs": [],
   "source": [
    "# Encapsulation \n",
    "\n",
    "class bankaccount:\n",
    "    def __init__(self,balance):\n",
    "        self.__balance = balance\n",
    "    def withdraw(self,amount):\n",
    "        if amount > 0:\n",
    "            self.__balance = self.__balance - amount\n",
    "    def deposite(self,amount):\n",
    "        if amount > 0:\n",
    "            self.__balance = self.__balance + amount\n",
    "    def get_balance(self):\n",
    "        return self.__balance\n"
   ]
  },
  {
   "cell_type": "code",
   "execution_count": 15,
   "id": "0bca857d",
   "metadata": {},
   "outputs": [
    {
     "data": {
      "text/plain": [
       "1"
      ]
     },
     "execution_count": 15,
     "metadata": {},
     "output_type": "execute_result"
    }
   ],
   "source": [
    "acc = bankaccount(1500) \n",
    "\n",
    "acc.get_balance()\n",
    "\n",
    "acc.deposite(500)\n",
    "\n",
    "acc.get_balance()\n",
    "\n",
    "acc.withdraw(1999)\n",
    "\n",
    "acc.get_balance()\n"
   ]
  },
  {
   "cell_type": "markdown",
   "id": "ec064d06",
   "metadata": {},
   "source": [
    "Here, the balance is hidden from direct access and modified only via methods.\n",
    "\n",
    "Summary:\n",
    "\n",
    "Abstraction = Hiding complexity → Focus on what the object does.\n",
    "\n",
    "Encapsulation = Hiding data → Control how the object works internally."
   ]
  },
  {
   "cell_type": "markdown",
   "id": "b298daa0",
   "metadata": {},
   "source": [
    "5. What are dunder methods in Python \n",
    "\n",
    "Dunder methods (short for \"double underscore\" methods) are special methods in Python that start and end with double underscores (like __init__ or __str__). They help define how objects behave and interact in different situations. \n",
    "\n",
    "Why Use Them?\n",
    "\n",
    "They help you:\n",
    "\n",
    "Initialize objects __ init __\n",
    "\n",
    "Print objects nicely __ str __\n",
    "\n",
    "Compare objects ___ eq ___, __ lt __\n",
    "\n",
    "Add custom behavior to operators (+, -, *, etc. via __ add __, __ sub __)\n",
    "\n",
    "Control length, representation, etc.\n",
    "\n",
    "Common Dunder Methods (with Examples)\n",
    "\n",
    "__ init __: Constructor (used to initialize an object)"
   ]
  },
  {
   "cell_type": "code",
   "execution_count": null,
   "id": "65642118",
   "metadata": {},
   "outputs": [],
   "source": [
    "class Person:\n",
    "    def __init__(self, name):\n",
    "        self.name = name\n",
    "\n",
    "p = Person(\"Nisha\")"
   ]
  },
  {
   "cell_type": "markdown",
   "id": "623c8c07",
   "metadata": {},
   "source": [
    "__ str __: String representation (used when you print() the object)"
   ]
  },
  {
   "cell_type": "code",
   "execution_count": 17,
   "id": "3ee3e0aa",
   "metadata": {},
   "outputs": [
    {
     "name": "stdout",
     "output_type": "stream",
     "text": [
      "person : Nisha\n"
     ]
    }
   ],
   "source": [
    "class person:\n",
    "    def __init__(self,name):\n",
    "        self.name = name\n",
    "    def __str__(self):\n",
    "         return (f\"person : {self.name}\")\n",
    "\n",
    "p = person(\"Nisha\")\n",
    "print(p)"
   ]
  },
  {
   "cell_type": "code",
   "execution_count": 18,
   "id": "b5f20527",
   "metadata": {},
   "outputs": [
    {
     "name": "stdout",
     "output_type": "stream",
     "text": [
      "4\n"
     ]
    }
   ],
   "source": [
    "# __ len __: Used by the len() function \n",
    "\n",
    "class mylist:\n",
    "    def __init__(self,data):\n",
    "        self.data=data\n",
    "    def __len__(self):\n",
    "        return len(self.data)\n",
    "l = mylist([1,2,3,4])\n",
    "print(len(l))\n"
   ]
  },
  {
   "cell_type": "code",
   "execution_count": null,
   "id": "f73c2f6b",
   "metadata": {},
   "outputs": [],
   "source": [
    "'''\n",
    "Dunder Method\t        Purpose\t                  Example Use\n",
    "__init__\t        Initializes a new object\t  p = Person(\"A\")\n",
    "__str__\t            User-friendly string output\t  print(obj)\n",
    "__len__\t            Returns length\t              len(obj)\n",
    "__add__\t            Adds two objects\t          obj1 + obj2\n",
    "__eq__\t            Checks equality\t               obj1 == obj2 '''\n",
    "\n"
   ]
  },
  {
   "cell_type": "markdown",
   "id": "425967bd",
   "metadata": {},
   "source": [
    "6. Explain the concept of inheritance in OOP\n",
    "\n",
    "Inheritance in Object-Oriented Programming (OOP)\n",
    "Inheritance is a powerful concept in OOP that allows a class to inherit properties and methods from another class. This helps in code reuse, making programs more efficient and organized.\n",
    "\n",
    "Think of inheritance like this:\n",
    "\n",
    "A parent class has certain traits and behaviors.\n",
    "\n",
    "A child class inherits these traits but can also add its own unique features.\n",
    "\n",
    "Why Use Inheritance?\n",
    "\n",
    "To reuse existing code (avoid duplication)\n",
    "\n",
    "To create a hierarchical structure (like a family tree of classes)\n",
    "\n",
    "To extend or modify behavior of the parent class without changing it "
   ]
  },
  {
   "cell_type": "code",
   "execution_count": null,
   "id": "f53758c0",
   "metadata": {},
   "outputs": [],
   "source": [
    "# Basic Syntax: \n",
    "\n",
    "class Parent:\n",
    "    def method(self):\n",
    "        print(\"This side is parent class\")\n",
    "class Child(Parent):\n",
    "    def method1(self):\n",
    "        print(\"This side is child class\")"
   ]
  },
  {
   "cell_type": "code",
   "execution_count": 23,
   "id": "7c00d572",
   "metadata": {},
   "outputs": [
    {
     "name": "stdout",
     "output_type": "stream",
     "text": [
      "This side is child class\n",
      "This side is parent class\n"
     ]
    }
   ],
   "source": [
    "child_obj= Child()\n",
    "child_obj.method1()\n",
    "child_obj.method()"
   ]
  },
  {
   "cell_type": "markdown",
   "id": "9f25934e",
   "metadata": {},
   "source": [
    "Types of Inheritance in Python:\n",
    "\n",
    "Single Inheritance – One parent, one child.\n",
    "\n",
    "Multiple Inheritance – Child inherits from multiple parents.\n",
    "\n",
    "Multilevel Inheritance – Child of a child class.\n",
    "\n",
    "Hierarchical Inheritance – Multiple children from one parent.\n",
    "\n",
    "Hybrid Inheritance – Combination of types."
   ]
  },
  {
   "cell_type": "markdown",
   "id": "1762d6fb",
   "metadata": {},
   "source": [
    "Summary Table:\n",
    "\n",
    "'''\n",
    "Term\t              Meaning\n",
    "Parent class\t      The class being inherited from\n",
    "Child class\t          The class that inherits from the parent\n",
    "Inheritance\t          Reusing methods and properties from another class\n",
    "Method Overriding\t  Changing the inherited method in the child class\n",
    "'''"
   ]
  },
  {
   "cell_type": "markdown",
   "id": "e8d99b8e",
   "metadata": {},
   "source": [
    "7. What is polymorphism in OOP \n",
    "\n",
    "Polymorphism in Object-Oriented Programming (OOP)\n",
    "Polymorphism allows the same method name to behave differently based on the object that is calling it. This makes code flexible and reusable, as different classes can implement the same method in their own way.\n",
    "\n",
    "Think of polymorphism like a universal remote:\n",
    "\n",
    "The same remote can control different devices—TV, AC, Sound System.\n",
    "\n",
    "The button \"Power On\" works differently depending on the device.\n",
    "\n",
    "\n",
    "Why Polymorphism?\n",
    "\n",
    "It allows code to be more flexible and reusable\n",
    "\n",
    "You can write code that works on objects of different types without knowing their exact class\n",
    "\n",
    "It supports method overriding and duck typing (common in Python)\n",
    "\n",
    "Example: Polymorphism Using Method Overriding"
   ]
  },
  {
   "cell_type": "code",
   "execution_count": null,
   "id": "737ce857",
   "metadata": {},
   "outputs": [],
   "source": [
    "class Animal:\n",
    "    def speak(self):\n",
    "        print(\"This animal make sound\")\n",
    "class Dog(Animal):\n",
    "    def sound(self):\n",
    "        print(\"bark\")\n",
    "        \n",
    "    def move(self):\n",
    "        print(\"dog moves\")\n",
    "class Cat(Animal):\n",
    "    def sound(self):\n",
    "        print(\"Cat Meow\")\n",
    "        \n",
    "    def move(self):\n",
    "        print(\"cat moves\") "
   ]
  },
  {
   "cell_type": "code",
   "execution_count": 26,
   "id": "57851e40",
   "metadata": {},
   "outputs": [
    {
     "name": "stdout",
     "output_type": "stream",
     "text": [
      "cat moves\n",
      "Cat Meow\n",
      "This animal make sound\n"
     ]
    }
   ],
   "source": [
    "d= Dog()\n",
    "c= Cat()\n",
    "\n",
    "c.move()\n",
    "c.sound()\n",
    "c.speak()"
   ]
  },
  {
   "cell_type": "markdown",
   "id": "8d27a4f4",
   "metadata": {},
   "source": [
    "8. How is encapsulation achieved in Python\n",
    "\n",
    "Encapsulation is the concept of wrapping data (attributes) and methods (functions) that operate on the data into a single unit — i.e., a class — and restricting direct access to some of the object's components.\n",
    "\n",
    "This helps to:\n",
    "\n",
    "Protect internal data\n",
    "\n",
    "Control how data is modified\n",
    "\n",
    "Improve code security and robustness\n",
    "\n",
    "How Encapsulation Works in Python\n",
    "\n",
    "In Python, encapsulation is achieved using:\n",
    "\n",
    "Public members\n",
    "\n",
    "Protected members\n",
    "\n",
    "Private members\n",
    "\n",
    "1. Public Members (name)\n",
    "\n",
    "Accessible from anywhere "
   ]
  },
  {
   "cell_type": "code",
   "execution_count": 27,
   "id": "4382f471",
   "metadata": {},
   "outputs": [
    {
     "name": "stdout",
     "output_type": "stream",
     "text": [
      "Nisha\n"
     ]
    }
   ],
   "source": [
    "class Person:\n",
    "    def __init__(self, name):\n",
    "        self.name = name \n",
    "\n",
    "p = Person(\"Nisha\")\n",
    "print(p.name) "
   ]
  },
  {
   "cell_type": "code",
   "execution_count": 28,
   "id": "59ff50fc",
   "metadata": {},
   "outputs": [
    {
     "name": "stdout",
     "output_type": "stream",
     "text": [
      "Nisha\n"
     ]
    }
   ],
   "source": [
    "'''Protected Members (_name)\n",
    "Convention: Should not be accessed outside the class/subclass\n",
    "\n",
    "Still accessible, but marked as \"internal use only'''\n",
    "\n",
    "\n",
    "class Person:\n",
    "    def __init__(self, name):\n",
    "        self._name = name  # protected\n",
    "\n",
    "p = Person(\"Nisha\")\n",
    "print(p._name)  "
   ]
  },
  {
   "cell_type": "markdown",
   "id": "d95a3a5c",
   "metadata": {},
   "source": [
    "Private Members (__name)\n",
    "Name mangled by Python: not directly accessible outside the class\n",
    "\n",
    "Ensures data hiding"
   ]
  },
  {
   "cell_type": "code",
   "execution_count": null,
   "id": "e9574ea3",
   "metadata": {},
   "outputs": [
    {
     "name": "stdout",
     "output_type": "stream",
     "text": [
      "Nisha\n"
     ]
    }
   ],
   "source": [
    "class Person:\n",
    "    def __init__(self, name): \n",
    "        self.__name = name\n",
    "\n",
    "    def get_name(self):\n",
    "        return self.__name\n",
    "\n",
    "p = Person(\"Nisha\")\n",
    "print(p.get_name())   "
   ]
  },
  {
   "cell_type": "code",
   "execution_count": 31,
   "id": "5e7f08e5",
   "metadata": {},
   "outputs": [
    {
     "name": "stdout",
     "output_type": "stream",
     "text": [
      "1000\n",
      "2000\n"
     ]
    }
   ],
   "source": [
    "# Use getters and setters to access or update private data.\n",
    "\n",
    "\n",
    "class Account:\n",
    "    def __init__(self, balance):\n",
    "        self.__balance = balance  # private\n",
    "\n",
    "    def get_balance(self):\n",
    "        return self.__balance\n",
    "\n",
    "    def set_balance(self, amount):\n",
    "        if amount >= 0:\n",
    "            self.__balance = amount\n",
    "\n",
    "acc = Account(1000)\n",
    "print(acc.get_balance())  \n",
    "acc.set_balance(2000)\n",
    "print(acc.get_balance())  "
   ]
  },
  {
   "cell_type": "markdown",
   "id": "dcbb3d02",
   "metadata": {},
   "source": [
    "9. What is a constructor in Python \n",
    "\n",
    "A constructor in Python is a special method used to initialize objects when they are created. It automatically gets called when an object is made from a class.\n",
    "\n",
    "Purpose of a Constructor:\n",
    "\n",
    "Set initial values for object properties (attributes)\n",
    "\n",
    "Perform any setup tasks when the object is created\n",
    "\n",
    "In Python, the constructor is the __ init __() method: "
   ]
  },
  {
   "cell_type": "code",
   "execution_count": 34,
   "id": "6a4c11a5",
   "metadata": {},
   "outputs": [
    {
     "name": "stdout",
     "output_type": "stream",
     "text": [
      "Vishal\n",
      "25\n"
     ]
    }
   ],
   "source": [
    "class Person:\n",
    "    def __init__(self, name, age):  # constructor\n",
    "        self.name = name\n",
    "        self.age = age\n",
    "\n",
    "p = Person(\"Vishal\", 25)  \n",
    "print(p.name)  \n",
    "print(p.age)   \n"
   ]
  },
  {
   "cell_type": "markdown",
   "id": "15b2a101",
   "metadata": {},
   "source": [
    "\n",
    "__ init __ is called automatically when you create an object.\n",
    "\n",
    "The self parameter refers to the current instance of the class.\n",
    "\n",
    "You can pass arguments to set object-specific values."
   ]
  },
  {
   "cell_type": "markdown",
   "id": "79a3239b",
   "metadata": {},
   "source": [
    "10. What are class and static methods in Python \n",
    "\n",
    "Both class methods and static methods are used inside classes in Python, but they have different purposes.\n",
    "\n",
    "1️⃣ Class Method (@classmethod):- \n",
    "\n",
    "A class method works on the class itself, not individual objects. It can modify class-level attributes and doesn't need an instance of the class to be called.\n",
    "\n",
    "✅ Uses @classmethod decorator ✅ Takes cls as the first parameter (refers to the class) ✅ Can modify class attributes\n",
    "\n",
    "2️⃣ Static Method (@staticmethod):- \n",
    "\n",
    "A static method works independently—it doesn’t modify class attributes or require an object. It's just a regular function inside a class.\n",
    "\n",
    "✅ Uses @staticmethod decorator ✅ Doesn't require self or cls ✅ Used for utility functions inside a class"
   ]
  },
  {
   "cell_type": "code",
   "execution_count": 35,
   "id": "d62ece9f",
   "metadata": {},
   "outputs": [
    {
     "name": "stdout",
     "output_type": "stream",
     "text": [
      "ABC School\n"
     ]
    }
   ],
   "source": [
    "class Student:\n",
    "    school_name = \"ABC School\"\n",
    "    def __init__(self,name):\n",
    "        self.name = name\n",
    "    @classmethod\n",
    "    def get_school_name(cls):\n",
    "        return cls.school_name\n",
    "\n",
    "print(Student.get_school_name())\n"
   ]
  },
  {
   "cell_type": "code",
   "execution_count": 36,
   "id": "0f28b1d1",
   "metadata": {},
   "outputs": [
    {
     "name": "stdout",
     "output_type": "stream",
     "text": [
      "8\n"
     ]
    }
   ],
   "source": [
    "class MathUtils:\n",
    "    @staticmethod\n",
    "    def add(a, b):\n",
    "        return a + b\n",
    "\n",
    "print(MathUtils.add(3, 5))"
   ]
  },
  {
   "cell_type": "markdown",
   "id": "d02efc8d",
   "metadata": {},
   "source": [
    "11. What is method overloading in Python \n",
    "\n",
    "In Object-Oriented Programming (OOP), method overloading refers to the ability to define multiple methods with the same name but different parameters (like in Java or C++).\n",
    "\n",
    "However, in Python, true method overloading is not directly supported. You can only define one method with a given name per class — the last one overrides the previous.\n",
    "\n",
    "Traditional Overloading – Not Supported in Python"
   ]
  },
  {
   "cell_type": "code",
   "execution_count": 37,
   "id": "b0b15640",
   "metadata": {},
   "outputs": [
    {
     "name": "stdout",
     "output_type": "stream",
     "text": [
      "Hello, Nisha\n"
     ]
    }
   ],
   "source": [
    "class Example:\n",
    "    def greet(self):\n",
    "        print(\"Hello\")\n",
    "\n",
    "    def greet(self, name):  # This overwrites the above method\n",
    "        print(f\"Hello, {name}\")\n",
    "\n",
    "e = Example()\n",
    "# e.greet()        Error: missing 1 argument\n",
    "e.greet(\"Nisha\")  "
   ]
  },
  {
   "cell_type": "markdown",
   "id": "b23245ef",
   "metadata": {},
   "source": [
    "How to Achieve Overloading in Python (OOP Style)\n",
    "Python allows similar behavior using:\n",
    "\n",
    "Default Arguments"
   ]
  },
  {
   "cell_type": "code",
   "execution_count": 39,
   "id": "59453b33",
   "metadata": {},
   "outputs": [
    {
     "name": "stdout",
     "output_type": "stream",
     "text": [
      "Hello\n",
      "Hello, Nisha\n"
     ]
    }
   ],
   "source": [
    "class Greet:\n",
    "    def say_hello(self, name=None):\n",
    "        if name:\n",
    "            print(f\"Hello, {name}\")\n",
    "        else:\n",
    "            print(\"Hello\")\n",
    "\n",
    "g = Greet()\n",
    "g.say_hello()        \n",
    "g.say_hello(\"Nisha\") "
   ]
  },
  {
   "cell_type": "markdown",
   "id": "a0236c7d",
   "metadata": {},
   "source": [
    "\n",
    "Why Doesn't Python Support Traditional Overloading?\n",
    "\n",
    "Python is a dynamically typed language, which means:\n",
    "\n",
    "The number and types of arguments are not checked at compile time.\n",
    "\n",
    "Developers typically use flexible argument techniques like *args and default values instead."
   ]
  },
  {
   "cell_type": "markdown",
   "id": "aba7759d",
   "metadata": {},
   "source": [
    "12. What is method overriding in OOP \n",
    "\n",
    "Method overriding is an important concept in Object-Oriented Programming (OOP) that allows a child (derived) class to provide a specific implementation of a method that is already defined in its parent (base) class\n",
    "\n",
    "Key Idea:\n",
    "\n",
    "When a subclass overrides a method from the superclass, the subclass version is used — even when called from an object of the subclass.\n",
    "\n",
    "Example in Python:"
   ]
  },
  {
   "cell_type": "code",
   "execution_count": 40,
   "id": "afa78fa7",
   "metadata": {},
   "outputs": [
    {
     "name": "stdout",
     "output_type": "stream",
     "text": [
      "Dog barks\n"
     ]
    }
   ],
   "source": [
    "class Animal:\n",
    "    def speak(self):\n",
    "        print(\"Animal makes a sound\")\n",
    "\n",
    "class Dog(Animal):\n",
    "    def speak(self):  # Overriding the parent method\n",
    "        print(\"Dog barks\")\n",
    "\n",
    "d = Dog()\n",
    "d.speak() "
   ]
  },
  {
   "cell_type": "markdown",
   "id": "c6128cd1",
   "metadata": {},
   "source": [
    "Even though the Animal class has a speak() method, the Dog class overrides it with its own version.\n",
    "\n",
    "When to Use Method Overriding?\n",
    "\n",
    "When a child class needs custom behavior for a method inherited from a parent class.\n",
    "\n",
    "Common in implementing polymorphism — same method name behaves differently for different classes."
   ]
  },
  {
   "cell_type": "markdown",
   "id": "fcbe711f",
   "metadata": {},
   "source": [
    "Using super() to Call Parent’s Method\n",
    "\n",
    "If you want to extend the behavior of the parent’s method instead of completely replacing it, use super():"
   ]
  },
  {
   "cell_type": "code",
   "execution_count": 41,
   "id": "94bfbee6",
   "metadata": {},
   "outputs": [
    {
     "name": "stdout",
     "output_type": "stream",
     "text": [
      "Bird is flying\n",
      "Eagle flies high\n"
     ]
    }
   ],
   "source": [
    "class Bird:\n",
    "    def fly(self):\n",
    "        print(\"Bird is flying\")\n",
    "\n",
    "class Eagle(Bird):\n",
    "    def fly(self):\n",
    "        super().fly()  # Call parent method\n",
    "        print(\"Eagle flies high\")\n",
    "\n",
    "e = Eagle()\n",
    "e.fly()\n"
   ]
  },
  {
   "cell_type": "markdown",
   "id": "92b4d823",
   "metadata": {},
   "source": [
    "13. What is a property decorator in Python \n",
    "\n",
    "In Python, the @property decorator is used to define a method as a read-only attribute. It allows you to access a method like a variable — without using parentheses.\n",
    "\n",
    "Why Use It?\n",
    "\n",
    "To control access to private attributes\n",
    "\n",
    "To make getter/setter logic cleaner\n",
    "\n",
    "To create computed attributes that look like regular variables\n"
   ]
  },
  {
   "cell_type": "code",
   "execution_count": 42,
   "id": "aaf24066",
   "metadata": {},
   "outputs": [
    {
     "name": "stdout",
     "output_type": "stream",
     "text": [
      "78.5\n"
     ]
    }
   ],
   "source": [
    "# Basic Example: \n",
    "\n",
    "class Circle:\n",
    "    def __init__(self, radius):\n",
    "        self._radius = radius\n",
    "\n",
    "    @property\n",
    "    def area(self):  \n",
    "        return 3.14 * self._radius ** 2\n",
    "\n",
    "c = Circle(5)\n",
    "print(c.area)  # (no parentheses needed) "
   ]
  },
  {
   "cell_type": "markdown",
   "id": "539ef23d",
   "metadata": {},
   "source": [
    "Here, area looks like a variable but works like a method.\n",
    "Adding Setters and Getters\n",
    "You can also create setters and deleters using:\n",
    "\n",
    "@property – for getter\n",
    "\n",
    "@<property_name>.setter – for setter\n",
    "\n",
    "@<property_name>.deleter – for deleter"
   ]
  },
  {
   "cell_type": "code",
   "execution_count": 43,
   "id": "be5d8e6a",
   "metadata": {},
   "outputs": [
    {
     "name": "stdout",
     "output_type": "stream",
     "text": [
      "Nisha\n",
      "Shweta\n"
     ]
    }
   ],
   "source": [
    "class Person:\n",
    "    def __init__(self, name):\n",
    "        self._name = name\n",
    "\n",
    "    @property\n",
    "    def name(self):  \n",
    "        return self._name\n",
    "\n",
    "    @name.setter\n",
    "    def name(self, value):  # Setter\n",
    "        if not value:\n",
    "            raise ValueError(\"Name can't be empty\")\n",
    "        self._name = value\n",
    "\n",
    "p = Person(\"Nisha\")\n",
    "print(p.name)        \n",
    "p.name = \"Shweta\"       \n",
    "print(p.name)        \n"
   ]
  },
  {
   "cell_type": "markdown",
   "id": "a45b4b23",
   "metadata": {},
   "source": [
    "14. Why is polymorphism important in OOP? \n",
    "\n",
    "Polymorphism is a core concept in Object-Oriented Programming (OOP) that allows objects of different classes to be treated as objects of a common superclass. It enables the same method name to behave differently based on the object calling it.\n",
    "\n",
    "Importance of Polymorphism:\n",
    "\n",
    "1. Code Reusability\n",
    "\n",
    "You can write a single function or method that works for many different types of objects. \n",
    "\n",
    "You can pass a Dog, Cat, or Cow object to this function, and it will work the same way — calling each animal’s version of speak(). \n",
    "\n",
    "2. Flexibility & Scalability\n",
    "\n",
    "You can add new classes (like Bird, Lion, etc.) without changing the existing code that uses polymorphic behavior.\n",
    "\n",
    "3. Simplifies Code\n",
    "\n",
    "You don’t need long if-else or switch statements to handle different types.\n",
    "\n",
    "4. Supports Method Overriding\n",
    "\n",
    "Polymorphism makes method overriding useful — you can call a method on a parent reference, and the child’s version executes.\n",
    "\n",
    "Real-World Analogy\n",
    "\n",
    "Remote control (interface): One remote can control TV, AC, or Music System — each responds differently, but the interface is the same."
   ]
  },
  {
   "cell_type": "code",
   "execution_count": 44,
   "id": "ae84d23d",
   "metadata": {},
   "outputs": [
    {
     "name": "stdout",
     "output_type": "stream",
     "text": [
      "Bird chirps\n",
      "Dog barks\n"
     ]
    }
   ],
   "source": [
    "class Bird:\n",
    "    def sound(self):\n",
    "        print(\"Bird chirps\")\n",
    "\n",
    "class Dog:\n",
    "    def sound(self):\n",
    "        print(\"Dog barks\")\n",
    "\n",
    "def make_sound(animal):\n",
    "    animal.sound()\n",
    "\n",
    "make_sound(Bird())  \n",
    "make_sound(Dog())   \n"
   ]
  },
  {
   "cell_type": "markdown",
   "id": "371409f5",
   "metadata": {},
   "source": [
    "15. What is an abstract class in Python?\n",
    "\n",
    "An abstract class is a class that cannot be instantiated directly. It is designed to be a base class that provides a common interface for its child classes.\n",
    "\n",
    "In Python, abstract classes are defined using the abc module — short for Abstract Base Classes.\n",
    "\n",
    "Key Features:\n",
    "\n",
    "Contains one or more abstract methods\n",
    "\n",
    "Abstract methods are declared using the @abstractmethod decorator\n",
    "\n",
    "Meant to be inherited by subclasses that must implement the abstract methods\n",
    "\n",
    "Helps enforce a consistent interface across subclasses\n",
    "\n",
    "How to Create an Abstract Class"
   ]
  },
  {
   "cell_type": "code",
   "execution_count": null,
   "id": "41682390",
   "metadata": {},
   "outputs": [],
   "source": [
    "# How to Create an Abstract Class\n",
    "\n",
    "from abc import ABC, abstractmethod\n",
    "\n",
    "class Animal(ABC):  \n",
    "    @abstractmethod\n",
    "    def make_sound(self):\n",
    "        pass\n"
   ]
  },
  {
   "cell_type": "markdown",
   "id": "45230556",
   "metadata": {},
   "source": [
    "16. What are the advantages of OOP?\n",
    "\n",
    "Object-Oriented Programming (OOP) is a programming paradigm based on the concept of \"objects\", which combine data (attributes) and functions (methods) into a single unit.\n",
    "\n",
    "Here are the key advantages:\n",
    "\n",
    "1. Modularity\n",
    "Code is organized into classes and objects, making it modular and easy to manage.\n",
    "\n",
    "Each class can be developed, tested, and maintained independently.\n",
    "\n",
    "2. Reusability\n",
    "Using inheritance, you can reuse existing code in new classes without rewriting it.\n",
    "\n",
    "Promotes DRY (Don't Repeat Yourself) principle.\n",
    "\n",
    "3. Encapsulation\n",
    "Bundles data and methods inside classes.\n",
    "\n",
    "Protects internal state using private variables and property decorators.\n",
    "\n",
    "Makes the system more secure and maintainable.\n",
    "\n",
    "4. Abstraction\n",
    "Hides complex implementation details from the user.\n",
    "\n",
    "Allows the user to focus on what the object does, not how it does it.\n",
    "\n",
    "5. Polymorphism\n",
    "Enables objects to be treated as instances of their parent class.\n",
    "\n",
    "Simplifies code by allowing the same interface for different types (e.g., animal.speak() works for Dog, Cat, etc.)\n",
    "\n",
    "6. Scalability and Maintainability\n",
    "OOP makes large applications easier to scale and maintain.\n",
    "\n",
    "Easier to update or modify one class without affecting others.\n",
    "\n",
    "7. Real-world Mapping\n",
    "OOP mirrors the way we think about real-world things — as objects with properties and behaviors.\n",
    "\n",
    "Improves understanding and problem-solving.\n",
    "\n",
    "Real-Life Analogy\n",
    "Think of a car as an object:\n",
    "\n",
    "Attributes: color, brand, speed\n",
    "\n",
    "Methods: start(), stop(), accelerate()\n",
    "\n",
    "You can have many car objects with different properties, but they all behave similarly. This is the power of OOP."
   ]
  },
  {
   "cell_type": "markdown",
   "id": "bdd74f6c",
   "metadata": {},
   "source": [
    "17. What is the difference between a class variable and an instance variable?\n",
    "\n",
    "In Python's object-oriented programming, class variables and instance variables are used to store data, but they serve different purposes.\n",
    "\n",
    "Class Variable:\n",
    "\n",
    "A variable that is shared by all instances of a class.\n",
    "\n",
    "Defined inside the class, but outside any method.\n",
    "\n",
    "Used when the value should be common for all objects of that class.\n",
    "\n",
    "Instance Variable:\n",
    "\n",
    "A variable that is unique to each object (instance).\n",
    "\n",
    "Defined using self.variable_name inside the constructor (__ init __) or other instance methods.\n",
    "\n",
    "Used when each object needs to store its own data."
   ]
  },
  {
   "cell_type": "code",
   "execution_count": 47,
   "id": "3462ffba",
   "metadata": {},
   "outputs": [
    {
     "name": "stdout",
     "output_type": "stream",
     "text": [
      "M.M public school\n",
      "M.M public school\n",
      "Nisha\n",
      "Shweta\n"
     ]
    }
   ],
   "source": [
    "\n",
    "class Student:\n",
    "    school_name = \"M.M public school\"  # Class variable\n",
    "\n",
    "    def __init__(self, name, grade):\n",
    "        self.name = name            # Instance variable\n",
    "        self.grade = grade          # Instance variable\n",
    "\n",
    "# Creating two student objects\n",
    "s1 = Student(\"Nisha\", \"A\")\n",
    "s2 = Student(\"Shweta\", \"B\")\n",
    "\n",
    "# Accessing class and instance variables\n",
    "print(s1.school_name)  \n",
    "print(s2.school_name)  \n",
    "\n",
    "print(s1.name)         \n",
    "print(s2.name)  "
   ]
  },
  {
   "cell_type": "markdown",
   "id": "642e8955",
   "metadata": {},
   "source": [
    "18. What is multiple inheritance in Python?\n",
    "\n",
    "Multiple inheritance is a feature in Python where a class can inherit attributes and methods from more than one parent class.\n",
    "\n",
    "This allows a child class to combine functionality from multiple classes, making code more flexible and reusable.\n",
    "\n",
    "Syntax:\n",
    "\n",
    "class Parent1:\n",
    "\n",
    "class Parent2:\n",
    "\n",
    "class Child(Parent1, Parent2):"
   ]
  },
  {
   "cell_type": "code",
   "execution_count": 48,
   "id": "0c8c35f1",
   "metadata": {},
   "outputs": [
    {
     "name": "stdout",
     "output_type": "stream",
     "text": [
      "Engine started.\n",
      "Playing music.\n",
      "Car is driving.\n"
     ]
    }
   ],
   "source": [
    "class Engine:\n",
    "    def start_engine(self):\n",
    "        print(\"Engine started.\")\n",
    "\n",
    "class Radio:\n",
    "    def play_music(self):\n",
    "        print(\"Playing music.\")\n",
    "\n",
    "class Car(Engine, Radio):\n",
    "    def drive(self):\n",
    "        print(\"Car is driving.\")\n",
    "\n",
    "\n",
    "my_car = Car()\n",
    "my_car.start_engine()   # Inherited from Engine\n",
    "my_car.play_music()     # Inherited from Radio\n",
    "my_car.drive()          # Defined in Car\n"
   ]
  },
  {
   "cell_type": "markdown",
   "id": "8576c3ab",
   "metadata": {},
   "source": [
    "19. Explain the purpose of ‘’__ str __ ’ and ‘__ repr __’ ‘ methods in Python.\n",
    "\n",
    "In Python, __ str __ and __ repr __ are special (dunder) methods used to define how an object should be represented as a string. They’re extremely useful for debugging and displaying objects.\n",
    "\n",
    "__ str __() → User-Friendly String Representation\n",
    "\n",
    "Used when you call print(object) or str(object).\n",
    "\n",
    "Intended for end users.\n",
    "\n",
    "Should return a readable and clear description of the object."
   ]
  },
  {
   "cell_type": "code",
   "execution_count": 49,
   "id": "4ff258e7",
   "metadata": {},
   "outputs": [
    {
     "name": "stdout",
     "output_type": "stream",
     "text": [
      "Person: Nisha\n"
     ]
    }
   ],
   "source": [
    "class Person:\n",
    "    def __init__(self, name):\n",
    "        self.name = name\n",
    "\n",
    "    def __str__(self):\n",
    "        return f\"Person: {self.name}\"\n",
    "\n",
    "p = Person(\"Nisha\")\n",
    "print(p)  "
   ]
  },
  {
   "cell_type": "markdown",
   "id": "d0f5982e",
   "metadata": {},
   "source": [
    "__ repr __() → Developer-Friendly String Representation\n",
    "\n",
    "Called when you use repr(object) or in interactive sessions (e.g., Jupyter Notebook).\n",
    "\n",
    "Intended for developers.\n",
    "\n",
    "Should return a string that can be used to recreate the object, if possible."
   ]
  },
  {
   "cell_type": "code",
   "execution_count": null,
   "id": "931e3743",
   "metadata": {},
   "outputs": [],
   "source": [
    "class Person:\n",
    "    def __init__(self, name):\n",
    "        self.name = name\n",
    "\n",
    "    def __repr__(self):\n",
    "        return f\"Person('{self.name}')\"\n",
    "\n",
    "p = Person(\"Vishal\")\n",
    "print(repr(p))  \n"
   ]
  },
  {
   "cell_type": "markdown",
   "id": "98800042",
   "metadata": {},
   "source": [
    "Summary:\n",
    "Use __ str __() to make your objects readable to users.\n",
    "\n",
    "Use __ repr __() to give an unambiguous, developer-focused representation. "
   ]
  },
  {
   "cell_type": "markdown",
   "id": "e2de8302",
   "metadata": {},
   "source": [
    "20. What is the significance of the ‘super()’ function in Python?\n",
    "The super() function in Python is used to call methods from a parent (or superclass) inside a child (subclass). It allows you to reuse the code in the parent class without hardcoding the parent’s name, and is especially useful in inheritance and method overriding.\n",
    "Purpose of super():\n",
    "Access the parent class’s methods and properties.\n",
    "\n",
    "Avoid duplicating code.\n",
    "\n",
    "Maintain cleaner and more maintainable inheritance hierarchies.\n",
    "\n",
    "Support multiple inheritance through Python’s Method Resolution Order (MRO)."
   ]
  },
  {
   "cell_type": "code",
   "execution_count": 50,
   "id": "693530ed",
   "metadata": {},
   "outputs": [
    {
     "name": "stdout",
     "output_type": "stream",
     "text": [
      "bruno Make a sound. bruno barks\n"
     ]
    }
   ],
   "source": [
    "class Animal:\n",
    "    def __init__(self, name):\n",
    "        self.name = name\n",
    "    def speak(self):\n",
    "        return f\"{self.name} Make a sound.\"\n",
    "\n",
    "class Dog(Animal):\n",
    "    def __init__(self, name, breed):\n",
    "        super().__init__(name)\n",
    "        self.breed = breed\n",
    "    def speak(self):\n",
    "        parent_sound = super().speak()\n",
    "        return f\"{parent_sound} {self.name} barks\"\n",
    "d = Dog(\"bruno\",\"German shephard\")\n",
    "print(d.speak())\n"
   ]
  },
  {
   "cell_type": "markdown",
   "id": "c0b804fa",
   "metadata": {},
   "source": [
    "21. What is the significance of the del method in Python?\n",
    "\n",
    "The __ del __() method is a special method (also called a dunder method) that acts as a destructor.\n"
   ]
  },
  {
   "cell_type": "code",
   "execution_count": null,
   "id": "14e07253",
   "metadata": {},
   "outputs": [],
   "source": [
    "def __del__(self):\n",
    "    # cleanup code here\n"
   ]
  },
  {
   "cell_type": "markdown",
   "id": "65532ffd",
   "metadata": {},
   "source": [
    "What does it do?\n",
    "\n",
    "It's called automatically when an object is about to be destroyed (i.e., deleted from memory).\n",
    "\n",
    "It’s typically used for cleanup actions like:\n",
    "\n",
    "Closing a file\n",
    "\n",
    "Releasing a network connection\n",
    "\n",
    "Deleting temporary data\n",
    "\n",
    "When is it triggered?\n",
    "You use del object_name\n",
    "\n",
    "Or Python’s garbage collector deletes an object that’s no longer used"
   ]
  },
  {
   "cell_type": "code",
   "execution_count": 52,
   "id": "eadc40a3",
   "metadata": {},
   "outputs": [
    {
     "name": "stdout",
     "output_type": "stream",
     "text": [
      "Opening file: data.txt\n",
      "data.txt\n"
     ]
    }
   ],
   "source": [
    "class FileHandler:\n",
    "    def __init__(self, filename):\n",
    "        self.filename = filename\n",
    "        print(f\"Opening file: {self.filename}\")\n",
    "    \n",
    "    def __del__(self):\n",
    "        print(f\"Closing file: {self.filename}\")\n",
    "\n",
    "f = FileHandler(\"data.txt\")\n",
    "print(f.filename)"
   ]
  },
  {
   "cell_type": "markdown",
   "id": "c30c683a",
   "metadata": {},
   "source": [
    "22. What is the difference between @staticmethod and @classmethod in Python?\n",
    "\n",
    "Both are decorators used to define methods that are not regular instance methods, but they behave differently.\n",
    "\n",
    "1. @staticmethod\n",
    "\n",
    "Does not take self or cls as the first parameter.\n",
    "\n",
    "It doesn’t access or modify class or instance attributes.\n",
    "\n",
    "Used for utility/helper functions that are related to the class but don’t need access to the instance (self) or the class (cls)."
   ]
  },
  {
   "cell_type": "code",
   "execution_count": null,
   "id": "5da349be",
   "metadata": {},
   "outputs": [],
   "source": [
    "class Math:\n",
    "    @staticmethod\n",
    "    def add(x, y):\n",
    "        return x + y\n",
    "\n",
    "print(Math.add(3, 5))  "
   ]
  },
  {
   "cell_type": "markdown",
   "id": "e56921db",
   "metadata": {},
   "source": [
    "2. @classmethod\n",
    "Takes cls as the first parameter, referring to the class itself.\n",
    "\n",
    "Can access or modify class variables, not instance variables.\n",
    "\n",
    "Useful for alternative constructors or class-level operations."
   ]
  },
  {
   "cell_type": "code",
   "execution_count": 53,
   "id": "20a9156c",
   "metadata": {},
   "outputs": [
    {
     "name": "stdout",
     "output_type": "stream",
     "text": [
      "3\n"
     ]
    }
   ],
   "source": [
    "class person:\n",
    "    count = 0\n",
    "    def __init__(self, name):\n",
    "        self.name = name\n",
    "        person.count = person.count+1\n",
    "    @classmethod\n",
    "    def get_count(cls):\n",
    "        return cls.count\n",
    "\n",
    "p1 = person(\"Vishal\")\n",
    "p2 = person(\"Pratik\")\n",
    "p3 = person(\"Ravi\")\n",
    "\n",
    "print(person.get_count())"
   ]
  },
  {
   "cell_type": "markdown",
   "id": "d9a9d495",
   "metadata": {},
   "source": [
    "23. 23 How does polymorphism work in Python with inheritance?\n",
    "\n",
    "Polymorphism means: \"many forms\"\n",
    "\n",
    "In Python (and OOP in general), polymorphism with inheritance allows you to call the same method on different classes and get different behaviors, depending on which class the object belongs to.\n",
    "\n",
    "How It Works with Inheritance:\n",
    "\n",
    "You define a base class with a method (e.g., speak()).\n",
    "\n",
    "You create subclasses that override this method.\n",
    "\n",
    "You can then call the method on any subclass object, and the correct version of the method is executed."
   ]
  },
  {
   "cell_type": "code",
   "execution_count": 54,
   "id": "5a350642",
   "metadata": {},
   "outputs": [
    {
     "name": "stdout",
     "output_type": "stream",
     "text": [
      "Dog barks\n",
      "Cat meows\n"
     ]
    }
   ],
   "source": [
    "class Animal:\n",
    "    def speak(self):\n",
    "        return \"Animal makes a sound\"\n",
    "\n",
    "class Dog(Animal):\n",
    "    def speak(self):\n",
    "        return \"Dog barks\"\n",
    "\n",
    "class Cat(Animal):\n",
    "    def speak(self):\n",
    "        return \"Cat meows\"\n",
    "        \n",
    "animals = [Dog(), Cat()]  # Polymorphic behavior\n",
    "\n",
    "for i in animals:\n",
    "    print(i.speak())\n"
   ]
  },
  {
   "cell_type": "markdown",
   "id": "13fb3143",
   "metadata": {},
   "source": [
    "What Happened?\n",
    "\n",
    "Even though both Dog and Cat are treated as Animal types, their own version of speak() is called.\n",
    "\n",
    "This is runtime polymorphism — Python dynamically decides which method to call based on the object’s type.\n",
    "\n",
    "Benefits:\n",
    "\n",
    "Makes your code more flexible and extensible.\n",
    "\n",
    "You can write functions or loops that work with the base class, and they'll still behave correctly for any subclass."
   ]
  },
  {
   "cell_type": "markdown",
   "id": "07695e1f",
   "metadata": {},
   "source": [
    "24. What is method chaining in Python OOP?\n",
    "\n",
    "Method chaining is a technique in Python where you call multiple methods on the same object in a single line. It works by having each method return the object itself (self), so the next method can be called on it.\n",
    "\n",
    "Why Use Method Chaining?\n",
    "\n",
    "It makes your code more readable and concise\n",
    "\n",
    "It helps perform sequential operations in a clean way"
   ]
  },
  {
   "cell_type": "code",
   "execution_count": 55,
   "id": "910f0883",
   "metadata": {},
   "outputs": [],
   "source": [
    "class Person:\n",
    "    def __init__(self, name):\n",
    "        self.name = name\n",
    "        self.age = None\n",
    "        self.city = None\n",
    "\n",
    "    def set_age(self, age):\n",
    "        self.age = age\n",
    "        return self  # returns the object itself\n",
    "\n",
    "    def set_city(self, city):\n",
    "        self.city = city\n",
    "        return self\n",
    "\n",
    "    def show(self):\n",
    "        print(f\"Name: {self.name}, Age: {self.age}, City: {self.city}\")\n"
   ]
  },
  {
   "cell_type": "code",
   "execution_count": 56,
   "id": "f1fda637",
   "metadata": {},
   "outputs": [
    {
     "name": "stdout",
     "output_type": "stream",
     "text": [
      "Name: Nisha, Age: 25, City: Mumbai\n"
     ]
    }
   ],
   "source": [
    "p = Person(\"Nisha\")\n",
    "p.set_age(25).set_city(\"Mumbai\").show()"
   ]
  },
  {
   "cell_type": "markdown",
   "id": "525eca62",
   "metadata": {},
   "source": [
    "How It Works:\n",
    "\n",
    "set_age() returns self → now .set_city() is called on the same object.\n",
    "\n",
    ".set_city() also returns self → now .show() is called on that same object.\n",
    "\n",
    "This allows you to chain them like: object.method1().method2().method3()"
   ]
  },
  {
   "cell_type": "markdown",
   "id": "18bd3a7b",
   "metadata": {},
   "source": [
    "25. What is the purpose of the __ call __ method in Python?\n",
    "\n",
    "If a class defines a __ call __ method, then its instances can be used with parentheses — just like calling a regular function."
   ]
  },
  {
   "cell_type": "code",
   "execution_count": 58,
   "id": "1a9d229a",
   "metadata": {},
   "outputs": [
    {
     "name": "stdout",
     "output_type": "stream",
     "text": [
      "Hello, Nisha!\n"
     ]
    }
   ],
   "source": [
    "class Greeter:\n",
    "    def __init__(self, name):\n",
    "        self.name = name\n",
    "\n",
    "    def __call__(self, greeting):\n",
    "        return f\"{greeting}, {self.name}!\"\n",
    "\n",
    "g = Greeter(\"Nisha\")\n",
    "print(g(\"Hello\"))  "
   ]
  },
  {
   "cell_type": "markdown",
   "id": "24d9f2d4",
   "metadata": {},
   "source": [
    "Explanation:\n",
    "\n",
    "g(\"Hello\") looks like a function call.\n",
    "\n",
    "But since the Greeter class defines __ call __, this expression actually runs:\n",
    "\n",
    "g.__ call __(\"Hello\")"
   ]
  },
  {
   "cell_type": "markdown",
   "id": "96603083",
   "metadata": {},
   "source": [
    "Why use __ call __? \n",
    "\n",
    "Use Case\t                                Benefit\n",
    "Making objects behave like functions       \tGreat for function wrappers, decorators, machine learning models, etc.\n",
    "Clean, elegant syntax\t                    Keeps object state and logic together but with simple function-like use\n",
    "\n",
    "Real-Life Example: Callable Counter \n"
   ]
  },
  {
   "cell_type": "code",
   "execution_count": 59,
   "id": "394dee82",
   "metadata": {},
   "outputs": [
    {
     "name": "stdout",
     "output_type": "stream",
     "text": [
      "1\n",
      "2\n",
      "3\n"
     ]
    }
   ],
   "source": [
    "class Counter:\n",
    "    def __init__(self):\n",
    "        self.count = 0\n",
    "\n",
    "    def __call__(self):\n",
    "        self.count += 1\n",
    "        return self.count\n",
    "\n",
    "c = Counter()\n",
    "print(c())  \n",
    "print(c())  \n",
    "print(c())  \n"
   ]
  },
  {
   "cell_type": "markdown",
   "id": "f75330ab",
   "metadata": {},
   "source": [
    "Practical Questions:- \n",
    "\n",
    "\n",
    "1. Create a parent class Animal with a method speak() that prints a generic message. Create a child class Dog that overrides the speak() method to print \"Bark!\"."
   ]
  },
  {
   "cell_type": "code",
   "execution_count": null,
   "id": "c5c0dd7d",
   "metadata": {},
   "outputs": [
    {
     "name": "stdout",
     "output_type": "stream",
     "text": [
      "Bark!\n"
     ]
    }
   ],
   "source": [
    "class Animal:\n",
    "    def speak(self):\n",
    "        return \"This is Animal sound\"\n",
    "class Dog(Animal):\n",
    "    def speak(self):\n",
    "        return \"Bark!\"\n",
    "\n",
    "d =Dog()\n",
    "print(d.speak()) "
   ]
  },
  {
   "cell_type": "markdown",
   "id": "34eb9aee",
   "metadata": {},
   "source": [
    "2. Write a program to create an abstract class Shape with a method area(). Derive classes Circle and Rectangle from it and implement the area() method in both. \n"
   ]
  },
  {
   "cell_type": "code",
   "execution_count": 61,
   "id": "67908f2e",
   "metadata": {},
   "outputs": [
    {
     "name": "stdout",
     "output_type": "stream",
     "text": [
      "This is Circle class\n",
      "This is Rectangle class\n"
     ]
    }
   ],
   "source": [
    "from abc import ABC,abstractmethod\n",
    "\n",
    "class Shape(ABC):\n",
    "    @abstractmethod\n",
    "    def area(self):\n",
    "        pass\n",
    "\n",
    "class Circle(Shape):\n",
    "    def area(self):\n",
    "        return \"This is Circle class\"\n",
    "\n",
    "class Rectangle(Shape):\n",
    "    def area(self):\n",
    "        return \"This is Rectangle class\"\n",
    "\n",
    "\n",
    "c = Circle()\n",
    "r = Rectangle()\n",
    "\n",
    "\n",
    "print(c.area())\n",
    "print(r.area())\n"
   ]
  },
  {
   "cell_type": "markdown",
   "id": "d4656f5d",
   "metadata": {},
   "source": [
    "3. Implement a multi-level inheritance scenario where a class Vehicle has an attribute type. Derive a class Car and further derive a class ElectricCar that adds a battery attribute.\n"
   ]
  },
  {
   "cell_type": "code",
   "execution_count": 62,
   "id": "037ae7d9",
   "metadata": {},
   "outputs": [],
   "source": [
    "class Vehicle:\n",
    "    def __init__(self,vehicle_type):\n",
    "        self.type = vehicle_type\n",
    "    def Vehicle_info(self):\n",
    "        return f\"This is {self.type} companies Vehicle\"\n",
    "        \n",
    "class Car(Vehicle):\n",
    "    def Car_info(self):\n",
    "        return \"This is Car info\"\n",
    "        \n",
    "class ElectricCar(Car):\n",
    "    def __init__(self, vehicle_type, battery):\n",
    "        super().__init__(vehicle_type)\n",
    "        self.battery = battery\n",
    "    def ElectricCar_info(self):\n",
    "        return f\"This has {self.battery} battery\"\n",
    "\n",
    "vehicle1 = Vehicle(\"BMW\")\n",
    "car1 = Car(\"BMW\")\n",
    "e_car1 = ElectricCar(\"BMW\",\"Lithium\")"
   ]
  },
  {
   "cell_type": "code",
   "execution_count": 66,
   "id": "9f11762c",
   "metadata": {},
   "outputs": [
    {
     "data": {
      "text/plain": [
       "'This has Lithium battery'"
      ]
     },
     "execution_count": 66,
     "metadata": {},
     "output_type": "execute_result"
    }
   ],
   "source": [
    "e_car1.ElectricCar_info()"
   ]
  },
  {
   "cell_type": "markdown",
   "id": "d0c8e539",
   "metadata": {},
   "source": [
    "4. Demonstrate polymorphism by creating a base class Bird with a method fly(). Create two derived classes Sparrow and Penguin that override the fly() method.\n"
   ]
  },
  {
   "cell_type": "code",
   "execution_count": 67,
   "id": "26a8310d",
   "metadata": {},
   "outputs": [
    {
     "name": "stdout",
     "output_type": "stream",
     "text": [
      "Penguin is also a Bird, But Penguin can not fly\n",
      "Sparrow is a Bird, sparrow can also fly\n"
     ]
    }
   ],
   "source": [
    "class Bird:\n",
    "    def fly(self):\n",
    "        return \"Bird can fly\"\n",
    "\n",
    "class Sparrow(Bird):\n",
    "    def fly(self):\n",
    "        return \"Sparrow is a Bird, sparrow can also fly\"\n",
    "\n",
    "class Penguin(Bird):\n",
    "    def fly(self):\n",
    "        return \"Penguin is also a Bird, But Penguin can not fly\"\n",
    "\n",
    "def bird_type(bird):\n",
    "    return bird.fly()\n",
    "\n",
    "s = Sparrow()\n",
    "p = Penguin()\n",
    "\n",
    "\n",
    "print(bird_type(p))\n",
    "print(bird_type(s))\n"
   ]
  },
  {
   "cell_type": "markdown",
   "id": "111e0054",
   "metadata": {},
   "source": [
    "5. Write a program to demonstrate encapsulation by creating a class BankAccount with private attributes balance and methods to deposit, withdraw, and check balance.\n"
   ]
  },
  {
   "cell_type": "code",
   "execution_count": 68,
   "id": "066e2aa6",
   "metadata": {},
   "outputs": [
    {
     "name": "stdout",
     "output_type": "stream",
     "text": [
      "Current Balance :  2000\n"
     ]
    }
   ],
   "source": [
    "class Bank_account:\n",
    "    \n",
    "    def __init__(self,balance=1000):\n",
    "        self.__balance = balance\n",
    "    \n",
    "    def deposit(self, amount):\n",
    "        if amount > 0:\n",
    "            self.__balance = self.__balance + amount\n",
    "            \n",
    "    def withdraw(self,amount):\n",
    "        if amount > 0:\n",
    "            self.__balance = self.__balance - amount\n",
    "            \n",
    "    def check_balance(self):\n",
    "        return self.__balance\n",
    "\n",
    "acc1 = Bank_account()\n",
    "acc1.deposit(1000)\n",
    "print(\"Current Balance : \", acc1.check_balance())\n"
   ]
  },
  {
   "cell_type": "code",
   "execution_count": 69,
   "id": "37858d29",
   "metadata": {},
   "outputs": [
    {
     "name": "stdout",
     "output_type": "stream",
     "text": [
      "Current Balance :  1500\n"
     ]
    }
   ],
   "source": [
    "acc1.withdraw(500)\n",
    "print(\"Current Balance : \", acc1.check_balance())\n"
   ]
  },
  {
   "cell_type": "markdown",
   "id": "162301ea",
   "metadata": {},
   "source": [
    "6. Demonstrate runtime polymorphism using a method play() in a base class Instrument. Derive classes Guitar and Piano that implement their own version of play().\n"
   ]
  },
  {
   "cell_type": "code",
   "execution_count": 70,
   "id": "08928480",
   "metadata": {},
   "outputs": [
    {
     "name": "stdout",
     "output_type": "stream",
     "text": [
      "Guitar is Strumming\n",
      "Piano is playing melodiously\n"
     ]
    }
   ],
   "source": [
    "class Instrument:\n",
    "    def play(self):\n",
    "        return \"Instruments are playing\"\n",
    "\n",
    "class Guitar(Instrument):\n",
    "    def play(self):\n",
    "        return \"Guitar is Strumming\"\n",
    "\n",
    "class Piano(Instrument):\n",
    "    def play(self):\n",
    "        return \"Piano is playing melodiously\"\n",
    "\n",
    "def start_playing(instrument):\n",
    "    return instrument.play()\n",
    "\n",
    "g = Guitar()\n",
    "p = Piano()\n",
    "\n",
    "print(start_playing(g))\n",
    "print(start_playing(p))\n"
   ]
  },
  {
   "cell_type": "markdown",
   "id": "52a0e011",
   "metadata": {},
   "source": [
    "7. Create a class MathOperations with a class method add_numbers() to add two numbers and a static method subtract_numbers() to subtract two numbers."
   ]
  },
  {
   "cell_type": "code",
   "execution_count": 71,
   "id": "8a61dfaa",
   "metadata": {},
   "outputs": [
    {
     "name": "stdout",
     "output_type": "stream",
     "text": [
      "Addition 15\n",
      "Subtract 5\n"
     ]
    }
   ],
   "source": [
    "class MathOperations:\n",
    "    @classmethod\n",
    "    def add_numbers(cls,a,b):\n",
    "        return a+b\n",
    "\n",
    "    @staticmethod\n",
    "    def subtract_numbers(a,b):\n",
    "        return a-b\n",
    "\n",
    "print(\"Addition\",MathOperations.add_numbers(10,5))\n",
    "print(\"Subtract\",MathOperations.subtract_numbers(10,5))"
   ]
  },
  {
   "cell_type": "markdown",
   "id": "3e173381",
   "metadata": {},
   "source": [
    "8. Implement a class Person with a class method to count the total number of persons created.\n"
   ]
  },
  {
   "cell_type": "code",
   "execution_count": 72,
   "id": "5ddf0933",
   "metadata": {},
   "outputs": [
    {
     "name": "stdout",
     "output_type": "stream",
     "text": [
      "3\n"
     ]
    }
   ],
   "source": [
    "class Person:\n",
    "    count = 0\n",
    "    \n",
    "    def __init__(self,name):\n",
    "        self.name = name\n",
    "        Person.count += 1\n",
    "        \n",
    "    @classmethod\n",
    "    def total_person(cls):\n",
    "        return cls.count\n",
    "\n",
    "p1 = Person(\"Vishal\")\n",
    "p2 = Person(\"Pratik\")\n",
    "p3 = Person(\"Ravi\")\n",
    "\n",
    "print(Person.total_person())"
   ]
  },
  {
   "cell_type": "markdown",
   "id": "9b5d3f31",
   "metadata": {},
   "source": [
    "9. Write a class Fraction with attributes numerator and denominator. Override the str method to display the fraction as \"numerator/denominator\".\n"
   ]
  },
  {
   "cell_type": "code",
   "execution_count": 73,
   "id": "68e27f1c",
   "metadata": {},
   "outputs": [
    {
     "name": "stdout",
     "output_type": "stream",
     "text": [
      "3/4\n"
     ]
    }
   ],
   "source": [
    "class Fraction:\n",
    "    def __init__(self,numerator,denominator):\n",
    "        self.numerator = numerator\n",
    "        self.denominator = denominator\n",
    "        \n",
    "    def __str__(self):\n",
    "        return f\"{self.numerator}/{self.denominator}\"\n",
    "\n",
    "f1 = Fraction(3,4)\n",
    "print(f1)\n"
   ]
  },
  {
   "cell_type": "markdown",
   "id": "32082deb",
   "metadata": {},
   "source": [
    "10. Demonstrate operator overloading by creating a class Vector and overriding the add method to add two vectors.\n"
   ]
  },
  {
   "cell_type": "code",
   "execution_count": 74,
   "id": "42f184dc",
   "metadata": {},
   "outputs": [
    {
     "name": "stdout",
     "output_type": "stream",
     "text": [
      "(8,10)\n"
     ]
    }
   ],
   "source": [
    "class Vector:\n",
    "    def __init__(self,x,y):\n",
    "        self.x = x\n",
    "        self.y = y\n",
    "    def __add__(self,other):\n",
    "        return Vector(self.x+other.x,self.y+other.y)\n",
    "    def __str__(self):\n",
    "        return f\"({self.x},{self.y})\"\n",
    "\n",
    "v1 = Vector(3,4)\n",
    "v2 = Vector(5,6)\n",
    "v3 = v1+v2\n",
    "\n",
    "\n",
    "print(v3)\n"
   ]
  },
  {
   "cell_type": "markdown",
   "id": "85016b73",
   "metadata": {},
   "source": [
    "11. Create a class Person with attributes name and age. Add a method greet() that prints \"Hello, my name is {name} and I am {age} years old.\"\n"
   ]
  },
  {
   "cell_type": "code",
   "execution_count": 76,
   "id": "437cea9e",
   "metadata": {},
   "outputs": [
    {
     "name": "stdout",
     "output_type": "stream",
     "text": [
      "Hello, my name is Nisha and I am 24 years old\n"
     ]
    }
   ],
   "source": [
    "class Person:\n",
    "    def __init__(self,name,age):\n",
    "        self.name = name\n",
    "        self.age = age\n",
    "    def greet(self):\n",
    "        return  f\"Hello, my name is {self.name} and I am {self.age} years old\"\n",
    "\n",
    "p1 = Person(\"Nisha\",24)\n",
    "print(p1.greet())\n"
   ]
  },
  {
   "cell_type": "markdown",
   "id": "8c436997",
   "metadata": {},
   "source": [
    "12. Implement a class Student with attributes name and grades. Create a method average_grade() to compute the average of the grades. "
   ]
  },
  {
   "cell_type": "code",
   "execution_count": 78,
   "id": "e3749675",
   "metadata": {},
   "outputs": [
    {
     "name": "stdout",
     "output_type": "stream",
     "text": [
      "Nisha's average grade is 81.00\n"
     ]
    }
   ],
   "source": [
    "class Student:\n",
    "    def __init__(self,name,grades):\n",
    "        self.name = name\n",
    "        self.grades = grades\n",
    "        \n",
    "    def average_grade(self):\n",
    "        if len(self.grades) ==0:\n",
    "            return 0\n",
    "        return sum(self.grades)/len(self.grades)\n",
    "\n",
    "s1 =Student(\"Nisha\",[78,82,83])\n",
    "print(f\"{s1.name}'s average grade is {s1.average_grade():.2f}\")"
   ]
  },
  {
   "cell_type": "markdown",
   "id": "24239888",
   "metadata": {},
   "source": [
    "13. Create a class Rectangle with methods set_dimensions() to set the dimensions and area() to calculate the area.\n"
   ]
  },
  {
   "cell_type": "code",
   "execution_count": 79,
   "id": "b3d23650",
   "metadata": {},
   "outputs": [
    {
     "name": "stdout",
     "output_type": "stream",
     "text": [
      "The area of the Rectangle : 20\n"
     ]
    }
   ],
   "source": [
    "class Rectangle:\n",
    "    def __init__(self):\n",
    "        self.length = 0\n",
    "        self.width = 0\n",
    "    def set_dimension(self,length,width):\n",
    "        self.length = length\n",
    "        self.width = width\n",
    "    def area(self):\n",
    "        return self.length*self.width\n",
    "\n",
    "rect = Rectangle()\n",
    "rect.set_dimension(5,4)\n",
    "\n",
    "print(f\"The area of the Rectangle : {rect.area()}\")\n"
   ]
  },
  {
   "cell_type": "markdown",
   "id": "faba08c4",
   "metadata": {},
   "source": [
    "14. Create a class Employee with a method calculate_salary() that computes the salary based on hours worked and hourly rate. Create a derived class Manager that adds a bonus to the salary."
   ]
  },
  {
   "cell_type": "code",
   "execution_count": 81,
   "id": "16e6a061",
   "metadata": {},
   "outputs": [
    {
     "name": "stdout",
     "output_type": "stream",
     "text": [
      "Nisha's salary: $8000\n",
      "Shweta's salary: $9200\n"
     ]
    }
   ],
   "source": [
    "class Employee:\n",
    "    def __init__(self,name,hours_worked,hourly_rate):\n",
    "        self.name = name\n",
    "        self.hours_worked = hours_worked\n",
    "        self.hourly_rate = hourly_rate\n",
    "    def calculate_salary(self):\n",
    "        return self.hours_worked * self.hourly_rate\n",
    "\n",
    "class Manager(Employee):\n",
    "    def __init__(self,name,hours_worked,hourly_rate,bonus):\n",
    "        super().__init__(name,hours_worked,hourly_rate)\n",
    "        self.bonus = bonus\n",
    "    def calculate_salary(self):\n",
    "        salary = super().calculate_salary()\n",
    "        return salary + self.bonus\n",
    "employee = Employee(\"Nisha\",40,200)\n",
    "manager = Manager(\"Shweta\",30,300,200)\n",
    "\n",
    "\n",
    "print(f\"{employee.name}'s salary: ${employee.calculate_salary()}\")\n",
    "print(f\"{manager.name}'s salary: ${manager.calculate_salary()}\")\n"
   ]
  },
  {
   "cell_type": "markdown",
   "id": "b8c123ef",
   "metadata": {},
   "source": [
    "15. Create a class Product with attributes name, price, and quantity. Implement a method total_price() that calculates the total price of the product."
   ]
  },
  {
   "cell_type": "code",
   "execution_count": 82,
   "id": "62581b54",
   "metadata": {},
   "outputs": [
    {
     "name": "stdout",
     "output_type": "stream",
     "text": [
      "The rate of Tea is 150 so total quantity of Tea you buying is 50 and total amount is 7500\n"
     ]
    }
   ],
   "source": [
    "class Product:\n",
    "    def __init__(self,name,price,quantity):\n",
    "        self.name = name\n",
    "        self.price = price\n",
    "        self.quantity = quantity\n",
    "        \n",
    "    def total_price(self):\n",
    "        return self.price*self.quantity\n",
    "\n",
    "p1 = Product(\"Tea\",150,50)\n",
    "\n",
    "print(f\"The rate of {p1.name} is {p1.price} so total quantity of {p1.name} you buying is {p1.quantity} and total amount is {p1.total_price()}\")\n",
    "        \n"
   ]
  },
  {
   "cell_type": "markdown",
   "id": "372aca37",
   "metadata": {},
   "source": [
    "16. Create a class Animal with an abstract method sound(). Create two derived classes Cow and Sheep that implement the sound() method.\n"
   ]
  },
  {
   "cell_type": "code",
   "execution_count": 83,
   "id": "fa9176ec",
   "metadata": {},
   "outputs": [
    {
     "name": "stdout",
     "output_type": "stream",
     "text": [
      "Cow has sound Mooo!\n",
      "Sheep sound is Behehehe !\n"
     ]
    }
   ],
   "source": [
    "from abc import ABC,abstractmethod\n",
    "class Animal(ABC):\n",
    "    @abstractmethod\n",
    "    def sound(self):\n",
    "        pass\n",
    "\n",
    "class Cow(Animal):\n",
    "    def sound(self):\n",
    "        return \"Cow has sound Mooo!\"\n",
    "\n",
    "class Sheep(Animal):\n",
    "    def sound(self):\n",
    "        return \"Sheep sound is Behehehe !\"\n",
    "\n",
    "cow = Cow()\n",
    "sheep = Sheep()\n",
    "\n",
    "print(cow.sound())\n",
    "print(sheep.sound())"
   ]
  },
  {
   "cell_type": "markdown",
   "id": "686416cd",
   "metadata": {},
   "source": [
    "17. Create a class Book with attributes title, author, and year_published. Add a method get_book_info() that returns a formatted string with the book's details.\n"
   ]
  },
  {
   "cell_type": "code",
   "execution_count": 84,
   "id": "a0ed1a8a",
   "metadata": {},
   "outputs": [
    {
     "name": "stdout",
     "output_type": "stream",
     "text": [
      "The Great Gatsby by F. Scott Fitzgerald publish in 1925\n"
     ]
    }
   ],
   "source": [
    "class Book:\n",
    "    def __init__(self,title,author,year_published):\n",
    "        self.title = title\n",
    "        self.author = author\n",
    "        self.year_published = year_published\n",
    "    def get_book_info(self):\n",
    "        return f\"{self.title} by {self.author} publish in {self.year_published}\"\n",
    "\n",
    "b1 = Book(\"The Great Gatsby\", \"F. Scott Fitzgerald\", 1925)\n",
    "\n",
    "print(b1.get_book_info())"
   ]
  },
  {
   "cell_type": "markdown",
   "id": "6695172d",
   "metadata": {},
   "source": [
    "18. Create a class House with attributes address and price. Create a derived class Mansion that adds an attribute number_of_rooms.\n"
   ]
  },
  {
   "cell_type": "code",
   "execution_count": 85,
   "id": "810672c1",
   "metadata": {},
   "outputs": [
    {
     "name": "stdout",
     "output_type": "stream",
     "text": [
      "House: 123 Elm St, $250000\n",
      "Mansion: 456 Beverly Hills, $5000000, Rooms: 15\n"
     ]
    }
   ],
   "source": [
    "class House:\n",
    "    def __init__(self,address,price):\n",
    "        self.address = address\n",
    "        self.price = price\n",
    "        \n",
    "class Mansion(House):\n",
    "    def __init__(self,address,price,number_of_rooms):\n",
    "        super().__init__(address,price)\n",
    "        self.number_of_rooms = number_of_rooms\n",
    "        \n",
    "house1 = House(\"123 Elm St\", 250000)\n",
    "mansion1 = Mansion(\"456 Beverly Hills\", 5000000, 15)\n",
    "\n",
    "print(f\"House: {house1.address}, ${house1.price}\")\n",
    "print(f\"Mansion: {mansion1.address}, ${mansion1.price}, Rooms: {mansion1.number_of_rooms}\")"
   ]
  }
 ],
 "metadata": {
  "kernelspec": {
   "display_name": "Python 3",
   "language": "python",
   "name": "python3"
  },
  "language_info": {
   "codemirror_mode": {
    "name": "ipython",
    "version": 3
   },
   "file_extension": ".py",
   "mimetype": "text/x-python",
   "name": "python",
   "nbconvert_exporter": "python",
   "pygments_lexer": "ipython3",
   "version": "3.12.2"
  }
 },
 "nbformat": 4,
 "nbformat_minor": 5
}
